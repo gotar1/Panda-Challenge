{
 "cells": [
  {
   "source": [
    "## Analysis of PyCity Schools\n",
    "Looking at the the plots created after each analysis, it is obvious that:\n",
    "\n",
    "* Spending more money per-student did not improve grades at all.  Schools with smaller budgets (585 per student) dramatically out-performed schools with higher spending (645-675 per student) on overall passing percentage (90% passing vs 53%). \n",
    "\n",
    "* Small class size means better grades and that is why smaller and medium sized schools dramatically out-performed large sized schools on overall passing percentage (90% passing vs 58%).\n",
    "\n",
    "* Charter schools grade-average way better than District or public schools, this is very clear when we look at top five performing schools\"all Charters\" vs bottom five ones\"all District\". \n",
    "\n",
    "* Charter schools kids out perform their District counterpart by 37% points when it comes to the overall percentage of passing both math and reading (90% vs 53%)."
   ],
   "cell_type": "markdown",
   "metadata": {}
  },
  {
   "cell_type": "code",
   "execution_count": 207,
   "metadata": {},
   "outputs": [],
   "source": [
    "# import depandancies\n",
    "import pandas as pd\n",
    "import matplotlib.pyplot as plt\n",
    "import numpy as np"
   ]
  },
  {
   "cell_type": "code",
   "execution_count": 208,
   "metadata": {},
   "outputs": [
    {
     "output_type": "execute_result",
     "data": {
      "text/plain": [
       "   Student ID       student_name gender grade        school_name  \\\n",
       "0           0       Paul Bradley      M   9th  Huang High School   \n",
       "1           1       Victor Smith      M  12th  Huang High School   \n",
       "2           2    Kevin Rodriguez      M  12th  Huang High School   \n",
       "3           3  Dr. Richard Scott      M  12th  Huang High School   \n",
       "4           4         Bonnie Ray      F   9th  Huang High School   \n",
       "\n",
       "   reading_score  math_score  School ID      type  size   budget  \n",
       "0             66          79          0  District  2917  1910635  \n",
       "1             94          61          0  District  2917  1910635  \n",
       "2             90          60          0  District  2917  1910635  \n",
       "3             67          58          0  District  2917  1910635  \n",
       "4             97          84          0  District  2917  1910635  "
      ],
      "text/html": "<div>\n<style scoped>\n    .dataframe tbody tr th:only-of-type {\n        vertical-align: middle;\n    }\n\n    .dataframe tbody tr th {\n        vertical-align: top;\n    }\n\n    .dataframe thead th {\n        text-align: right;\n    }\n</style>\n<table border=\"1\" class=\"dataframe\">\n  <thead>\n    <tr style=\"text-align: right;\">\n      <th></th>\n      <th>Student ID</th>\n      <th>student_name</th>\n      <th>gender</th>\n      <th>grade</th>\n      <th>school_name</th>\n      <th>reading_score</th>\n      <th>math_score</th>\n      <th>School ID</th>\n      <th>type</th>\n      <th>size</th>\n      <th>budget</th>\n    </tr>\n  </thead>\n  <tbody>\n    <tr>\n      <th>0</th>\n      <td>0</td>\n      <td>Paul Bradley</td>\n      <td>M</td>\n      <td>9th</td>\n      <td>Huang High School</td>\n      <td>66</td>\n      <td>79</td>\n      <td>0</td>\n      <td>District</td>\n      <td>2917</td>\n      <td>1910635</td>\n    </tr>\n    <tr>\n      <th>1</th>\n      <td>1</td>\n      <td>Victor Smith</td>\n      <td>M</td>\n      <td>12th</td>\n      <td>Huang High School</td>\n      <td>94</td>\n      <td>61</td>\n      <td>0</td>\n      <td>District</td>\n      <td>2917</td>\n      <td>1910635</td>\n    </tr>\n    <tr>\n      <th>2</th>\n      <td>2</td>\n      <td>Kevin Rodriguez</td>\n      <td>M</td>\n      <td>12th</td>\n      <td>Huang High School</td>\n      <td>90</td>\n      <td>60</td>\n      <td>0</td>\n      <td>District</td>\n      <td>2917</td>\n      <td>1910635</td>\n    </tr>\n    <tr>\n      <th>3</th>\n      <td>3</td>\n      <td>Dr. Richard Scott</td>\n      <td>M</td>\n      <td>12th</td>\n      <td>Huang High School</td>\n      <td>67</td>\n      <td>58</td>\n      <td>0</td>\n      <td>District</td>\n      <td>2917</td>\n      <td>1910635</td>\n    </tr>\n    <tr>\n      <th>4</th>\n      <td>4</td>\n      <td>Bonnie Ray</td>\n      <td>F</td>\n      <td>9th</td>\n      <td>Huang High School</td>\n      <td>97</td>\n      <td>84</td>\n      <td>0</td>\n      <td>District</td>\n      <td>2917</td>\n      <td>1910635</td>\n    </tr>\n  </tbody>\n</table>\n</div>"
     },
     "metadata": {},
     "execution_count": 208
    }
   ],
   "source": [
    "# load csv files\n",
    "school_data_to_load = \"Resources/schools_complete.csv\"\n",
    "student_data_to_load = \"Resources/students_complete.csv\"\n",
    "\n",
    "# read csv files and create pandas data frames\n",
    "school_data = pd.read_csv(school_data_to_load)\n",
    "student_data = pd.read_csv(student_data_to_load)\n",
    "\n",
    "# combine the two file into one data frame using merge function on a left join..  \n",
    "school_data_complete = pd.merge(student_data, school_data, how=\"left\", on=[\"school_name\", \"school_name\"])\n",
    "school_data_complete.head()\n",
    "# school_data_complete.dtypes"
   ]
  },
  {
   "source": [
    "## District Summary"
   ],
   "cell_type": "markdown",
   "metadata": {}
  },
  {
   "cell_type": "code",
   "execution_count": 209,
   "metadata": {},
   "outputs": [],
   "source": [
    "# crate a new data frame for use in later analysis without format\n",
    "school_df = school_data_complete.loc[:, [\"school_name\", \"type\", \"size\", \"budget\", \"math_score\", \"reading_score\"]]\n",
    "\n",
    "# Calculate the Totals (Schools and Students)\n",
    "total_school_count = len(school_df[\"school_name\"].unique())\n",
    "total_studentid_count = school_df[\"size\"].count()\n",
    "\n",
    "# Calculate the Total Budget\n",
    "total_budget = school_data['budget'].sum()"
   ]
  },
  {
   "cell_type": "code",
   "execution_count": 210,
   "metadata": {},
   "outputs": [],
   "source": [
    "# calculate the average scores\n",
    "average_math_score = school_df[\"math_score\"].mean()\n",
    "average_reading_score = school_df[\"reading_score\"].mean()"
   ]
  },
  {
   "cell_type": "code",
   "execution_count": 211,
   "metadata": {},
   "outputs": [],
   "source": [
    "# Calculate the Percentage Pass Rates\n",
    "\n",
    "# Math % pass\n",
    "math_score_file = school_df.loc[school_df[\"math_score\"] >=70]\n",
    "math_score_count = math_score_file.count()[\"size\"]\n",
    "percent_passing_math = (math_score_count / float(total_studentid_count))*100\n",
    "\n",
    "# Reading % pass\n",
    "reading_score_file = school_df.loc[school_df[\"reading_score\"] >=70]\n",
    "reading_score_count = reading_score_file.count()[\"size\"]\n",
    "percent_passing_reading = (reading_score_count / float(total_studentid_count))*100\n",
    "\n",
    "# Overall % pass\n",
    "school_name_group = school_df.groupby(['school_name'])\n",
    "filtered_school_name_group = school_name_group.mean()\n",
    "overall_pass = school_df.loc[(school_df[\"math_score\"] >= 70) & (\n",
    "        school_df[\"reading_score\"] >= 70), :]\n",
    "percent_overall_pass = (overall_pass[\"math_score\"].count() / float(total_studentid_count))*100"
   ]
  },
  {
   "cell_type": "code",
   "execution_count": 212,
   "metadata": {},
   "outputs": [],
   "source": [
    "# Data Cleanup and rename columns\n",
    "district_summary_df = pd.DataFrame({\n",
    "                                \"Total Schools\": [total_school_count],\n",
    "                                \"Total Students\": [total_studentid_count],\n",
    "                                \"Total Budget\": [total_budget],\n",
    "                                \"Average Math Score\": [average_math_score],\n",
    "                                \"Average Reading Score\": [average_reading_score],\n",
    "                                \"% Passing Math\": [percent_passing_math],\n",
    "                                \"% Passing Reading\": [percent_passing_reading],\n",
    "                                \"% Over all Passing\": [percent_overall_pass]\n",
    "})"
   ]
  },
  {
   "cell_type": "code",
   "execution_count": 213,
   "metadata": {},
   "outputs": [
    {
     "output_type": "execute_result",
     "data": {
      "text/plain": [
       "   Total Schools Total Students    Total Budget Average Math Score  \\\n",
       "0             15         39,170  $24,649,428.00              78.99   \n",
       "\n",
       "  Average Reading Score % Passing Math % Passing Reading % Over all Passing  \n",
       "0                 81.88        74.98 %           85.81 %            65.17 %  "
      ],
      "text/html": "<div>\n<style scoped>\n    .dataframe tbody tr th:only-of-type {\n        vertical-align: middle;\n    }\n\n    .dataframe tbody tr th {\n        vertical-align: top;\n    }\n\n    .dataframe thead th {\n        text-align: right;\n    }\n</style>\n<table border=\"1\" class=\"dataframe\">\n  <thead>\n    <tr style=\"text-align: right;\">\n      <th></th>\n      <th>Total Schools</th>\n      <th>Total Students</th>\n      <th>Total Budget</th>\n      <th>Average Math Score</th>\n      <th>Average Reading Score</th>\n      <th>% Passing Math</th>\n      <th>% Passing Reading</th>\n      <th>% Over all Passing</th>\n    </tr>\n  </thead>\n  <tbody>\n    <tr>\n      <th>0</th>\n      <td>15</td>\n      <td>39,170</td>\n      <td>$24,649,428.00</td>\n      <td>78.99</td>\n      <td>81.88</td>\n      <td>74.98 %</td>\n      <td>85.81 %</td>\n      <td>65.17 %</td>\n    </tr>\n  </tbody>\n</table>\n</div>"
     },
     "metadata": {},
     "execution_count": 213
    }
   ],
   "source": [
    "\n",
    "# Formatting\n",
    "district_summary_df[\"Total Students\"] = district_summary_df[\"Total Students\"].map(\"{:,}\".format)\n",
    "district_summary_df[\"Total Budget\"] = district_summary_df[\"Total Budget\"].astype(float).map(\"${:,.2f}\".format)\n",
    "district_summary_df[\"Average Math Score\"] = district_summary_df[\"Average Math Score\"].astype(float).map(\"{:,.2f}\".format)\n",
    "district_summary_df[\"Average Reading Score\"] = district_summary_df[\"Average Reading Score\"].astype(float).map(\"{:,.2f}\".format)\n",
    "district_summary_df[\"% Passing Math\"] = district_summary_df[\"% Passing Math\"].astype(float).map(\"{:,.2f} %\".format)\n",
    "district_summary_df[\"% Passing Reading\"] = district_summary_df[\"% Passing Reading\"].astype(float).map(\"{:,.2f} %\".format)\n",
    "district_summary_df[\"% Over all Passing\"] = district_summary_df[\"% Over all Passing\"].astype(float).map(\"{:,.2f} %\".format)\n",
    "\n",
    "# display district summary data frame\n",
    "district_summary_df"
   ]
  },
  {
   "source": [
    "## School Summary"
   ],
   "cell_type": "markdown",
   "metadata": {}
  },
  {
   "cell_type": "code",
   "execution_count": 214,
   "metadata": {},
   "outputs": [],
   "source": [
    "# Determine the School Type\n",
    "school_types = school_data.set_index([\"school_name\"])[\"type\"]\n",
    "\n",
    "# Calculate the total student count\n",
    "per_school_counts = school_data_complete[\"school_name\"].value_counts()\n",
    "\n",
    "# Calculate the total school budget and per capita spending\n",
    "per_school_budget = school_data_complete.groupby([\"school_name\"]).mean()[\"budget\"]\n",
    "per_school_capita = per_school_budget / per_school_counts\n",
    "\n",
    "# Calculate the average test scores\n",
    "average_school_math = school_data_complete.groupby([\"school_name\"]).mean()[\"math_score\"]\n",
    "average_school_reading = school_data_complete.groupby([\"school_name\"]).mean()[\"reading_score\"]"
   ]
  },
  {
   "cell_type": "code",
   "execution_count": 215,
   "metadata": {},
   "outputs": [],
   "source": [
    "# create separate filtered DataFrames for math, reading and overll pass\n",
    "#  filtered data frame for the students who passed math\n",
    "school_math_score = school_data_complete[(school_data_complete[\"math_score\"] >=70)]\n",
    "school_math_filter = school_math_score.groupby([\"school_name\"]).count()[\"student_name\"]\n",
    "\n",
    "#  filtered data frame for the students who passed reading\n",
    "school_reading_score = school_data_complete[(school_data_complete[\"reading_score\"] >=70)]\n",
    "school_reading_filter = school_reading_score.groupby([\"school_name\"]).count()[\"student_name\"]\n",
    "\n",
    "#  filtered data frame for students overall pass for both math and reading\n",
    "school_overall_pass = school_data_complete[(school_data_complete[\"math_score\"] >= 70) & (school_data_complete[\"reading_score\"] >= 70)]          \n",
    "overall_pass_filter = school_overall_pass.groupby(['school_name']).count()[\"student_name\"]"
   ]
  },
  {
   "cell_type": "code",
   "execution_count": 216,
   "metadata": {},
   "outputs": [],
   "source": [
    "#  Calculate the Percentage Pass Rates\n",
    "percent_passing_math = (school_math_filter / per_school_counts)*100\n",
    "percent_passing_reading = (school_reading_filter / per_school_counts)*100\n",
    "percent_overall_passing = (overall_pass_filter / per_school_counts)*100"
   ]
  },
  {
   "cell_type": "code",
   "execution_count": 217,
   "metadata": {},
   "outputs": [
    {
     "output_type": "execute_result",
     "data": {
      "text/plain": [
       "            School Name School Type  Total Students Total School Budget  \\\n",
       "0    Bailey High School    District            4976       $3,124,928.00   \n",
       "1   Cabrera High School     Charter            1858       $1,081,356.00   \n",
       "2  Figueroa High School    District            2949       $1,884,411.00   \n",
       "3      Ford High School    District            2739       $1,763,916.00   \n",
       "4   Griffin High School     Charter            1468         $917,500.00   \n",
       "\n",
       "  Per Student Budget Average Math Score Average Reading Score % Passing Math  \\\n",
       "0            $628.00              77.05                 81.03        66.68 %   \n",
       "1            $582.00              83.06                 83.98        94.13 %   \n",
       "2            $639.00              76.71                 81.16        65.99 %   \n",
       "3            $644.00              77.10                 80.75        68.31 %   \n",
       "4            $625.00              83.35                 83.82        93.39 %   \n",
       "\n",
       "  % Passing Reading % Overall Passing  \n",
       "0           81.93 %           54.64 %  \n",
       "1           97.04 %           91.33 %  \n",
       "2           80.74 %           53.20 %  \n",
       "3           79.30 %           54.29 %  \n",
       "4           97.14 %           90.60 %  "
      ],
      "text/html": "<div>\n<style scoped>\n    .dataframe tbody tr th:only-of-type {\n        vertical-align: middle;\n    }\n\n    .dataframe tbody tr th {\n        vertical-align: top;\n    }\n\n    .dataframe thead th {\n        text-align: right;\n    }\n</style>\n<table border=\"1\" class=\"dataframe\">\n  <thead>\n    <tr style=\"text-align: right;\">\n      <th></th>\n      <th>School Name</th>\n      <th>School Type</th>\n      <th>Total Students</th>\n      <th>Total School Budget</th>\n      <th>Per Student Budget</th>\n      <th>Average Math Score</th>\n      <th>Average Reading Score</th>\n      <th>% Passing Math</th>\n      <th>% Passing Reading</th>\n      <th>% Overall Passing</th>\n    </tr>\n  </thead>\n  <tbody>\n    <tr>\n      <th>0</th>\n      <td>Bailey High School</td>\n      <td>District</td>\n      <td>4976</td>\n      <td>$3,124,928.00</td>\n      <td>$628.00</td>\n      <td>77.05</td>\n      <td>81.03</td>\n      <td>66.68 %</td>\n      <td>81.93 %</td>\n      <td>54.64 %</td>\n    </tr>\n    <tr>\n      <th>1</th>\n      <td>Cabrera High School</td>\n      <td>Charter</td>\n      <td>1858</td>\n      <td>$1,081,356.00</td>\n      <td>$582.00</td>\n      <td>83.06</td>\n      <td>83.98</td>\n      <td>94.13 %</td>\n      <td>97.04 %</td>\n      <td>91.33 %</td>\n    </tr>\n    <tr>\n      <th>2</th>\n      <td>Figueroa High School</td>\n      <td>District</td>\n      <td>2949</td>\n      <td>$1,884,411.00</td>\n      <td>$639.00</td>\n      <td>76.71</td>\n      <td>81.16</td>\n      <td>65.99 %</td>\n      <td>80.74 %</td>\n      <td>53.20 %</td>\n    </tr>\n    <tr>\n      <th>3</th>\n      <td>Ford High School</td>\n      <td>District</td>\n      <td>2739</td>\n      <td>$1,763,916.00</td>\n      <td>$644.00</td>\n      <td>77.10</td>\n      <td>80.75</td>\n      <td>68.31 %</td>\n      <td>79.30 %</td>\n      <td>54.29 %</td>\n    </tr>\n    <tr>\n      <th>4</th>\n      <td>Griffin High School</td>\n      <td>Charter</td>\n      <td>1468</td>\n      <td>$917,500.00</td>\n      <td>$625.00</td>\n      <td>83.35</td>\n      <td>83.82</td>\n      <td>93.39 %</td>\n      <td>97.14 %</td>\n      <td>90.60 %</td>\n    </tr>\n  </tbody>\n</table>\n</div>"
     },
     "metadata": {},
     "execution_count": 217
    }
   ],
   "source": [
    "# crate new df with renamed columns\n",
    "school_summary_df = pd.DataFrame({\n",
    "                            \"School Type\": school_types,\n",
    "                            \"Total Students\": per_school_counts,\n",
    "                            \"Total School Budget\": per_school_budget,\n",
    "                            \"Per Student Budget\": per_school_capita,\n",
    "                            \"Average Math Score\": average_school_math,\n",
    "                            \"Average Reading Score\": average_school_reading,\n",
    "                            \"% Passing Math\": percent_passing_math,\n",
    "                            \"% Passing Reading\": percent_passing_reading,\n",
    "                            \"% Overall Passing\": percent_overall_passing\n",
    "})\n",
    "\n",
    "# reset the index and save a copy for later use without format\n",
    "school_summary_df.index.name = \"School Name\"\n",
    "school_summary_df = school_summary_df.reset_index()\n",
    "copy_school_summary_df = school_summary_df.copy()\n",
    "\n",
    "# format\n",
    "school_summary_df[\"Total School Budget\"] = school_summary_df[\"Total School Budget\"].map(\"${:,.2f}\".format)\n",
    "school_summary_df[\"Per Student Budget\"] = school_summary_df[\"Per Student Budget\"].map(\"${:,.2f}\".format)\n",
    "school_summary_df[\"Average Math Score\"] = school_summary_df[\"Average Math Score\"].map(\"{:,.2f}\".format)\n",
    "school_summary_df[\"Average Reading Score\"] = school_summary_df[\"Average Reading Score\"].map(\"{:,.2f}\".format)\n",
    "school_summary_df[\"% Passing Math\"] = school_summary_df[\"% Passing Math\"].map(\"{:,.2f} %\".format)\n",
    "school_summary_df[\"% Passing Reading\"] = school_summary_df[\"% Passing Reading\"].map(\"{:,.2f} %\".format)\n",
    "school_summary_df[\"% Overall Passing\"] = school_summary_df[\"% Overall Passing\"].map(\"{:,.2f} %\".format)\n",
    "\n",
    "# display school summary\n",
    "school_summary_df.head()"
   ]
  },
  {
   "source": [
    "## Top performing schools by % overall pass"
   ],
   "cell_type": "markdown",
   "metadata": {}
  },
  {
   "cell_type": "code",
   "execution_count": 218,
   "metadata": {},
   "outputs": [
    {
     "output_type": "execute_result",
     "data": {
      "text/plain": [
       "            School Name School Type  Total Students Total School Budget  \\\n",
       "1   Cabrera High School     Charter            1858       $1,081,356.00   \n",
       "12   Thomas High School     Charter            1635       $1,043,130.00   \n",
       "4   Griffin High School     Charter            1468         $917,500.00   \n",
       "13   Wilson High School     Charter            2283       $1,319,574.00   \n",
       "9      Pena High School     Charter             962         $585,858.00   \n",
       "\n",
       "   Per Student Budget Average Math Score Average Reading Score % Passing Math  \\\n",
       "1             $582.00              83.06                 83.98        94.13 %   \n",
       "12            $638.00              83.42                 83.85        93.27 %   \n",
       "4             $625.00              83.35                 83.82        93.39 %   \n",
       "13            $578.00              83.27                 83.99        93.87 %   \n",
       "9             $609.00              83.84                 84.04        94.59 %   \n",
       "\n",
       "   % Passing Reading % Overall Passing  \n",
       "1            97.04 %           91.33 %  \n",
       "12           97.31 %           90.95 %  \n",
       "4            97.14 %           90.60 %  \n",
       "13           96.54 %           90.58 %  \n",
       "9            95.95 %           90.54 %  "
      ],
      "text/html": "<div>\n<style scoped>\n    .dataframe tbody tr th:only-of-type {\n        vertical-align: middle;\n    }\n\n    .dataframe tbody tr th {\n        vertical-align: top;\n    }\n\n    .dataframe thead th {\n        text-align: right;\n    }\n</style>\n<table border=\"1\" class=\"dataframe\">\n  <thead>\n    <tr style=\"text-align: right;\">\n      <th></th>\n      <th>School Name</th>\n      <th>School Type</th>\n      <th>Total Students</th>\n      <th>Total School Budget</th>\n      <th>Per Student Budget</th>\n      <th>Average Math Score</th>\n      <th>Average Reading Score</th>\n      <th>% Passing Math</th>\n      <th>% Passing Reading</th>\n      <th>% Overall Passing</th>\n    </tr>\n  </thead>\n  <tbody>\n    <tr>\n      <th>1</th>\n      <td>Cabrera High School</td>\n      <td>Charter</td>\n      <td>1858</td>\n      <td>$1,081,356.00</td>\n      <td>$582.00</td>\n      <td>83.06</td>\n      <td>83.98</td>\n      <td>94.13 %</td>\n      <td>97.04 %</td>\n      <td>91.33 %</td>\n    </tr>\n    <tr>\n      <th>12</th>\n      <td>Thomas High School</td>\n      <td>Charter</td>\n      <td>1635</td>\n      <td>$1,043,130.00</td>\n      <td>$638.00</td>\n      <td>83.42</td>\n      <td>83.85</td>\n      <td>93.27 %</td>\n      <td>97.31 %</td>\n      <td>90.95 %</td>\n    </tr>\n    <tr>\n      <th>4</th>\n      <td>Griffin High School</td>\n      <td>Charter</td>\n      <td>1468</td>\n      <td>$917,500.00</td>\n      <td>$625.00</td>\n      <td>83.35</td>\n      <td>83.82</td>\n      <td>93.39 %</td>\n      <td>97.14 %</td>\n      <td>90.60 %</td>\n    </tr>\n    <tr>\n      <th>13</th>\n      <td>Wilson High School</td>\n      <td>Charter</td>\n      <td>2283</td>\n      <td>$1,319,574.00</td>\n      <td>$578.00</td>\n      <td>83.27</td>\n      <td>83.99</td>\n      <td>93.87 %</td>\n      <td>96.54 %</td>\n      <td>90.58 %</td>\n    </tr>\n    <tr>\n      <th>9</th>\n      <td>Pena High School</td>\n      <td>Charter</td>\n      <td>962</td>\n      <td>$585,858.00</td>\n      <td>$609.00</td>\n      <td>83.84</td>\n      <td>84.04</td>\n      <td>94.59 %</td>\n      <td>95.95 %</td>\n      <td>90.54 %</td>\n    </tr>\n  </tbody>\n</table>\n</div>"
     },
     "metadata": {},
     "execution_count": 218
    }
   ],
   "source": [
    "# Sort and show top five schools\n",
    "top_performing_schools = school_summary_df.sort_values(\"% Overall Passing\", ascending=False)\n",
    "top_performing_schools.head(5)"
   ]
  },
  {
   "source": [
    "# Bottom Performing Schools By % Overall Pass"
   ],
   "cell_type": "markdown",
   "metadata": {}
  },
  {
   "cell_type": "code",
   "execution_count": null,
   "metadata": {},
   "outputs": [],
   "source": [
    "# Sort and show bottom five schools\n",
    "bottom_performing_schools = school_summary_df.sort_values(\"% Overall Passing\")\n",
    "bottom_performing_schools.head()"
   ]
  },
  {
   "source": [
    "# Math scores by grades"
   ],
   "cell_type": "markdown",
   "metadata": {}
  },
  {
   "cell_type": "code",
   "execution_count": null,
   "metadata": {},
   "outputs": [],
   "source": [
    "# Create data series of 9th graders and group by school name\n",
    "ninth_graders = school_data_complete[(school_data_complete[\"grade\"] == \"9th\")]\n",
    "ninth_graders_series = ninth_graders.groupby([\"school_name\"]).mean()[\"math_score\"]\n",
    "\n",
    "# Create data series of 10th graders and group by school name\n",
    "tenth_graders = school_data_complete[(school_data_complete[\"grade\"] == \"10th\")]\n",
    "tenth_graders_series = tenth_graders.groupby([\"school_name\"]).mean()[\"math_score\"]\n",
    "\n",
    "# Create data series of 11th graders and group by school name\n",
    "eleventh_graders = school_data_complete[(school_data_complete[\"grade\"] == \"11th\")]\n",
    "eleventh_graders_series = eleventh_graders.groupby([\"school_name\"]).mean()[\"math_score\"]\n",
    "\n",
    "# Create data series of 12th graders and group by school name\n",
    "twelfth_graders = school_data_complete[(school_data_complete[\"grade\"] == \"12th\")]\n",
    "twelfth_graders_series = twelfth_graders.groupby([\"school_name\"]).mean()[\"math_score\"]\n",
    "\n"
   ]
  },
  {
   "cell_type": "code",
   "execution_count": null,
   "metadata": {},
   "outputs": [],
   "source": [
    "# Combine series into single DataFrame\n",
    "average_math_score = pd.DataFrame({\"9th\": ninth_graders_series, \"10th\": tenth_graders_series, \"11th\": eleventh_graders_series, \"12th\": twelfth_graders_series})\n",
    "\n",
    "# Minor data munging\n",
    "average_math_score = average_math_score[[\"9th\", \"10th\", \"11th\", \"12th\"]]\n",
    "# average_math_score.index.name = [\"School Name\"]\n",
    "\n",
    "# format\n",
    "average_math_score[\"9th\"] = average_math_score[\"9th\"].astype(float).map(\"{:,.2f}\".format)\n",
    "average_math_score[\"10th\"] = average_math_score[\"10th\"].astype(float).map(\"{:,.2f}\".format)\n",
    "average_math_score[\"11th\"] = average_math_score[\"11th\"].astype(float).map(\"{:,.2f}\".format)\n",
    "average_math_score[\"12th\"] = average_math_score[\"12th\"].astype(float).map(\"{:,.2f}\".format)\n",
    "\n",
    "# reset index and display data frame\n",
    "average_math_score = average_math_score.reset_index()\n",
    "average_math_score.head()"
   ]
  },
  {
   "source": [
    "# Reading score by grades"
   ],
   "cell_type": "markdown",
   "metadata": {}
  },
  {
   "cell_type": "code",
   "execution_count": null,
   "metadata": {},
   "outputs": [],
   "source": [
    "# Create data series of 9th graders and group by school name\n",
    "ninth_graders = school_data_complete[(school_data_complete[\"grade\"] == \"9th\")]\n",
    "ninth_graders_series = ninth_graders.groupby([\"school_name\"]).mean()[\"reading_score\"]\n",
    "\n",
    "# Create data series of 10th graders and group by school name\n",
    "tenth_graders = school_data_complete[(school_data_complete[\"grade\"] == \"10th\")]\n",
    "tenth_graders_series = tenth_graders.groupby([\"school_name\"]).mean()[\"reading_score\"]\n",
    "\n",
    "# Create data series of 11th graders and group by school name\n",
    "eleventh_graders = school_data_complete[(school_data_complete[\"grade\"] == \"11th\")]\n",
    "eleventh_graders_series = eleventh_graders.groupby([\"school_name\"]).mean()[\"reading_score\"]\n",
    "\n",
    "# Create data series of 12th graders and group by school name\n",
    "twelfth_graders = school_data_complete[(school_data_complete[\"grade\"] == \"12th\")]\n",
    "twelfth_graders_series = twelfth_graders.groupby([\"school_name\"]).mean()[\"reading_score\"]\n",
    "\n"
   ]
  },
  {
   "cell_type": "code",
   "execution_count": null,
   "metadata": {},
   "outputs": [],
   "source": [
    "# Combine series into single DataFrame\n",
    "average_reading_score = pd.DataFrame({\"9th\": ninth_graders_series, \"10th\": tenth_graders_series, \"11th\": eleventh_graders_series, \"12th\": twelfth_graders_series})\n",
    "\n",
    "# Minor data munging\n",
    "average_reading_score = average_reading_score[[\"9th\", \"10th\", \"11th\", \"12th\"]]\n",
    "# average_math_score.index.name([\"School Name\"])\n",
    "\n",
    "\n",
    "# format\n",
    "average_reading_score[\"9th\"] = average_reading_score[\"9th\"].astype(float).map(\"{:,.2f}\".format)\n",
    "average_reading_score[\"10th\"] = average_reading_score[\"10th\"].astype(float).map(\"{:,.2f}\".format)\n",
    "average_reading_score[\"11th\"] = average_reading_score[\"11th\"].astype(float).map(\"{:,.2f}\".format)\n",
    "average_reading_score[\"12th\"] = average_reading_score[\"12th\"].astype(float).map(\"{:,.2f}\".format)\n",
    "\n",
    "# reset index and display data frame\n",
    "average_reading_score = average_reading_score.reset_index()\n",
    "average_reading_score.head()"
   ]
  },
  {
   "source": [
    "# Scores by school spending"
   ],
   "cell_type": "markdown",
   "metadata": {}
  },
  {
   "cell_type": "code",
   "execution_count": null,
   "metadata": {},
   "outputs": [],
   "source": [
    "# Establish the bins \n",
    "spending_bins = [0, 584, 629, 644, 675]\n",
    "spending_labels = [\"<$584\", \"$585-629\", \"$630-644\", \"$645-675\"]"
   ]
  },
  {
   "cell_type": "code",
   "execution_count": null,
   "metadata": {},
   "outputs": [],
   "source": [
    "# create data frame with needed columns using saved df.\n",
    "spending_per_student = copy_school_summary_df.loc[:, ['Average Math Score', 'Average Reading Score','Per Student Budget', '% Passing Math', '% Passing Reading', '% Overall Passing']]\n",
    "\n",
    "# Categorize spending based on the bins.\n",
    "spending_per_student[\"Spending Ranges (Per Student)\"] = pd.cut(spending_per_student[\"Per Student Budget\"], spending_bins, labels=spending_labels)\n",
    "\n",
    "# groupby and take the mean of catogorized data frame\n",
    "spending_per_student = spending_per_student.groupby(\"Spending Ranges (Per Student)\").mean()"
   ]
  },
  {
   "cell_type": "code",
   "execution_count": null,
   "metadata": {},
   "outputs": [],
   "source": [
    "# clean up and save a copy for later use to create bar chart.\n",
    "spending_per_student = spending_per_student[['Average Math Score', 'Average Reading Score', '% Passing Math', '% Passing Reading', '% Overall Passing']]\n",
    "copy_spending_per_student = spending_per_student.copy()"
   ]
  },
  {
   "cell_type": "code",
   "execution_count": null,
   "metadata": {},
   "outputs": [],
   "source": [
    "# format \n",
    "spending_per_student[\"Average Math Score\"] = spending_per_student[\"Average Math Score\"].map(\"{:,.2f}\".format)\n",
    "spending_per_student[\"Average Reading Score\"] = spending_per_student[\"Average Reading Score\"].map(\"{:,.2f}\".format)\n",
    "spending_per_student[\"% Passing Math\"] = spending_per_student[\"% Passing Math\"].map(\"{:,.2f} %\".format)\n",
    "spending_per_student[\"% Passing Reading\"] = spending_per_student[\"% Passing Reading\"].map(\"{:,.2f} %\".format)\n",
    "spending_per_student[\"% Overall Passing\"] = spending_per_student[\"% Overall Passing\"].map(\"{:,.2f} %\".format)\n",
    "\n",
    "# reset index and display data frame\n",
    "spending_per_student = spending_per_student.reset_index()\n",
    "spending_per_student.head()"
   ]
  },
  {
   "cell_type": "code",
   "execution_count": null,
   "metadata": {},
   "outputs": [],
   "source": [
    "# create a bar chart showing spending range and scores \n",
    "copy_spending_per_student.plot.bar()\n"
   ]
  },
  {
   "source": [
    "# Scores by school size"
   ],
   "cell_type": "markdown",
   "metadata": {}
  },
  {
   "cell_type": "code",
   "execution_count": null,
   "metadata": {},
   "outputs": [],
   "source": [
    "# Establish the bins \n",
    "size_bins = [0, 1000, 2000, 5000]\n",
    "size_labels = [\"Small <1000\", \"Medium 1000-2000\", \"Large 2000-5000\"]"
   ]
  },
  {
   "cell_type": "code",
   "execution_count": null,
   "metadata": {},
   "outputs": [],
   "source": [
    "# create data frame with needed columns.\n",
    "school_size_df = copy_school_summary_df.loc[:, ['Total Students', 'Average Math Score', 'Average Reading Score', '% Passing Math', '% Passing Reading', '% Overall Passing']]\n",
    "\n",
    "# Categorize spending based on the bins.\n",
    "school_size_df[\"School Size\"] = pd.cut(school_size_df[\"Total Students\"], bins, labels=group_labels)\n",
    "\n",
    "# groupby and take the mean of catogorized data frame\n",
    "school_size_df = school_size_df.groupby(\"School Size\").mean()"
   ]
  },
  {
   "cell_type": "code",
   "execution_count": null,
   "metadata": {},
   "outputs": [],
   "source": [
    "# clean up and save a copy for later use to create bar chart.\n",
    "school_size_df = school_size_df[['Average Math Score', 'Average Reading Score', '% Passing Math', '% Passing Reading', '% Overall Passing']]\n",
    "copy_school_size_df = school_size_df.copy()"
   ]
  },
  {
   "cell_type": "code",
   "execution_count": null,
   "metadata": {},
   "outputs": [],
   "source": [
    "# format\n",
    "school_size_df[\"Average Math Score\"] = school_size_df[\"Average Math Score\"].map(\"{:,.2f}\".format)\n",
    "school_size_df[\"Average Reading Score\"] = school_size_df[\"Average Reading Score\"].map(\"{:,.2f}\".format)\n",
    "school_size_df[\"% Passing Math\"] = school_size_df[\"% Passing Math\"].map(\"{:,.2f} %\".format)\n",
    "school_size_df[\"% Passing Reading\"] = school_size_df[\"% Passing Reading\"].map(\"{:,.2f} %\".format)\n",
    "school_size_df[\"% Overall Passing\"] = school_size_df[\"% Overall Passing\"].map(\"{:,.2f} %\".format)\n",
    "\n",
    "# reset index and display data frame\n",
    "school_size_df = school_size_df.reset_index()\n",
    "school_size_df"
   ]
  },
  {
   "cell_type": "code",
   "execution_count": null,
   "metadata": {
    "scrolled": true
   },
   "outputs": [],
   "source": [
    "# create a bar chart showing school size and scores \n",
    "copy_school_size_df.plot(kind='bar')"
   ]
  },
  {
   "source": [
    "## Score by School Type"
   ],
   "cell_type": "markdown",
   "metadata": {}
  },
  {
   "cell_type": "code",
   "execution_count": null,
   "metadata": {},
   "outputs": [],
   "source": [
    "# create new data frame\n",
    "school_type_df = copy_school_summary_df.loc[:, ['School Type','Average Math Score', 'Average Reading Score', '% Passing Math', '% Passing Reading', '% Overall Passing']]\n",
    "\n",
    "# group by School Type and take the mean of all scores\n",
    "school_type_df = school_type_df.groupby(\"School Type\").mean()\n",
    "\n",
    "# save a copy for use to create bar chart\n",
    "copy_school_type_df = school_type_df.copy()\n",
    "\n",
    "# format \n",
    "school_type_df[\"Average Math Score\"] = school_type_df[\"Average Math Score\"].map(\"{:,.2f}\".format)\n",
    "school_type_df[\"Average Reading Score\"] = school_type_df[\"Average Reading Score\"].map(\"{:,.2f}\".format)\n",
    "school_type_df[\"% Passing Math\"] = school_type_df[\"% Passing Math\"].map(\"{:,.2f} %\".format)\n",
    "school_type_df[\"% Passing Reading\"] = school_type_df[\"% Passing Reading\"].map(\"{:,.2f} %\".format)\n",
    "school_type_df[\"% Overall Passing\"] = school_type_df[\"% Overall Passing\"].map(\"{:,.2f} %\".format)\n",
    "\n",
    "# reset index and display\n",
    "school_type_df = school_type_df.reset_index()\n",
    "school_type_df\n"
   ]
  },
  {
   "cell_type": "code",
   "execution_count": null,
   "metadata": {},
   "outputs": [],
   "source": [
    "# create a bar chart showing school type and scores\n",
    "copy_school_type_df.plot(kind='bar')"
   ]
  }
 ],
 "metadata": {
  "anaconda-cloud": {},
  "kernel_info": {
   "name": "python3"
  },
  "kernelspec": {
   "display_name": "Python 3",
   "language": "python",
   "name": "python3"
  },
  "language_info": {
   "codemirror_mode": {
    "name": "ipython",
    "version": 3
   },
   "file_extension": ".py",
   "mimetype": "text/x-python",
   "name": "python",
   "nbconvert_exporter": "python",
   "pygments_lexer": "ipython3",
   "version": "3.6.12-final"
  },
  "latex_envs": {
   "LaTeX_envs_menu_present": true,
   "autoclose": false,
   "autocomplete": true,
   "bibliofile": "biblio.bib",
   "cite_by": "apalike",
   "current_citInitial": 1,
   "eqLabelWithNumbers": true,
   "eqNumInitial": 1,
   "hotkeys": {
    "equation": "Ctrl-E",
    "itemize": "Ctrl-I"
   },
   "labels_anchors": false,
   "latex_user_defs": false,
   "report_style_numbering": false,
   "user_envs_cfg": false
  },
  "nteract": {
   "version": "0.8.4"
  }
 },
 "nbformat": 4,
 "nbformat_minor": 1
}