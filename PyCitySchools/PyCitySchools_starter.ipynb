{
 "cells": [
  {
   "cell_type": "markdown",
   "metadata": {},
   "source": [
    "### Note\n",
    "* Instructions have been included for each segment. You do not have to follow them exactly, but they are included to help you think through the steps."
   ]
  },
  {
   "cell_type": "code",
   "execution_count": 118,
   "metadata": {},
   "outputs": [
    {
     "output_type": "execute_result",
     "data": {
      "text/plain": "       Student ID       student_name gender grade         school_name  \\\n0               0       Paul Bradley      M   9th   Huang High School   \n1               1       Victor Smith      M  12th   Huang High School   \n2               2    Kevin Rodriguez      M  12th   Huang High School   \n3               3  Dr. Richard Scott      M  12th   Huang High School   \n4               4         Bonnie Ray      F   9th   Huang High School   \n...           ...                ...    ...   ...                 ...   \n39165       39165       Donna Howard      F  12th  Thomas High School   \n39166       39166          Dawn Bell      F  10th  Thomas High School   \n39167       39167     Rebecca Tanner      F   9th  Thomas High School   \n39168       39168       Desiree Kidd      F  10th  Thomas High School   \n39169       39169    Carolyn Jackson      F  11th  Thomas High School   \n\n       reading_score  math_score  School ID      type  size   budget  \n0                 66          79          0  District  2917  1910635  \n1                 94          61          0  District  2917  1910635  \n2                 90          60          0  District  2917  1910635  \n3                 67          58          0  District  2917  1910635  \n4                 97          84          0  District  2917  1910635  \n...              ...         ...        ...       ...   ...      ...  \n39165             99          90         14   Charter  1635  1043130  \n39166             95          70         14   Charter  1635  1043130  \n39167             73          84         14   Charter  1635  1043130  \n39168             99          90         14   Charter  1635  1043130  \n39169             95          75         14   Charter  1635  1043130  \n\n[39170 rows x 11 columns]",
      "text/html": "<div>\n<style scoped>\n    .dataframe tbody tr th:only-of-type {\n        vertical-align: middle;\n    }\n\n    .dataframe tbody tr th {\n        vertical-align: top;\n    }\n\n    .dataframe thead th {\n        text-align: right;\n    }\n</style>\n<table border=\"1\" class=\"dataframe\">\n  <thead>\n    <tr style=\"text-align: right;\">\n      <th></th>\n      <th>Student ID</th>\n      <th>student_name</th>\n      <th>gender</th>\n      <th>grade</th>\n      <th>school_name</th>\n      <th>reading_score</th>\n      <th>math_score</th>\n      <th>School ID</th>\n      <th>type</th>\n      <th>size</th>\n      <th>budget</th>\n    </tr>\n  </thead>\n  <tbody>\n    <tr>\n      <th>0</th>\n      <td>0</td>\n      <td>Paul Bradley</td>\n      <td>M</td>\n      <td>9th</td>\n      <td>Huang High School</td>\n      <td>66</td>\n      <td>79</td>\n      <td>0</td>\n      <td>District</td>\n      <td>2917</td>\n      <td>1910635</td>\n    </tr>\n    <tr>\n      <th>1</th>\n      <td>1</td>\n      <td>Victor Smith</td>\n      <td>M</td>\n      <td>12th</td>\n      <td>Huang High School</td>\n      <td>94</td>\n      <td>61</td>\n      <td>0</td>\n      <td>District</td>\n      <td>2917</td>\n      <td>1910635</td>\n    </tr>\n    <tr>\n      <th>2</th>\n      <td>2</td>\n      <td>Kevin Rodriguez</td>\n      <td>M</td>\n      <td>12th</td>\n      <td>Huang High School</td>\n      <td>90</td>\n      <td>60</td>\n      <td>0</td>\n      <td>District</td>\n      <td>2917</td>\n      <td>1910635</td>\n    </tr>\n    <tr>\n      <th>3</th>\n      <td>3</td>\n      <td>Dr. Richard Scott</td>\n      <td>M</td>\n      <td>12th</td>\n      <td>Huang High School</td>\n      <td>67</td>\n      <td>58</td>\n      <td>0</td>\n      <td>District</td>\n      <td>2917</td>\n      <td>1910635</td>\n    </tr>\n    <tr>\n      <th>4</th>\n      <td>4</td>\n      <td>Bonnie Ray</td>\n      <td>F</td>\n      <td>9th</td>\n      <td>Huang High School</td>\n      <td>97</td>\n      <td>84</td>\n      <td>0</td>\n      <td>District</td>\n      <td>2917</td>\n      <td>1910635</td>\n    </tr>\n    <tr>\n      <th>...</th>\n      <td>...</td>\n      <td>...</td>\n      <td>...</td>\n      <td>...</td>\n      <td>...</td>\n      <td>...</td>\n      <td>...</td>\n      <td>...</td>\n      <td>...</td>\n      <td>...</td>\n      <td>...</td>\n    </tr>\n    <tr>\n      <th>39165</th>\n      <td>39165</td>\n      <td>Donna Howard</td>\n      <td>F</td>\n      <td>12th</td>\n      <td>Thomas High School</td>\n      <td>99</td>\n      <td>90</td>\n      <td>14</td>\n      <td>Charter</td>\n      <td>1635</td>\n      <td>1043130</td>\n    </tr>\n    <tr>\n      <th>39166</th>\n      <td>39166</td>\n      <td>Dawn Bell</td>\n      <td>F</td>\n      <td>10th</td>\n      <td>Thomas High School</td>\n      <td>95</td>\n      <td>70</td>\n      <td>14</td>\n      <td>Charter</td>\n      <td>1635</td>\n      <td>1043130</td>\n    </tr>\n    <tr>\n      <th>39167</th>\n      <td>39167</td>\n      <td>Rebecca Tanner</td>\n      <td>F</td>\n      <td>9th</td>\n      <td>Thomas High School</td>\n      <td>73</td>\n      <td>84</td>\n      <td>14</td>\n      <td>Charter</td>\n      <td>1635</td>\n      <td>1043130</td>\n    </tr>\n    <tr>\n      <th>39168</th>\n      <td>39168</td>\n      <td>Desiree Kidd</td>\n      <td>F</td>\n      <td>10th</td>\n      <td>Thomas High School</td>\n      <td>99</td>\n      <td>90</td>\n      <td>14</td>\n      <td>Charter</td>\n      <td>1635</td>\n      <td>1043130</td>\n    </tr>\n    <tr>\n      <th>39169</th>\n      <td>39169</td>\n      <td>Carolyn Jackson</td>\n      <td>F</td>\n      <td>11th</td>\n      <td>Thomas High School</td>\n      <td>95</td>\n      <td>75</td>\n      <td>14</td>\n      <td>Charter</td>\n      <td>1635</td>\n      <td>1043130</td>\n    </tr>\n  </tbody>\n</table>\n<p>39170 rows × 11 columns</p>\n</div>"
     },
     "metadata": {},
     "execution_count": 118
    }
   ],
   "source": [
    "# Dependencies and Setup\n",
    "import pandas as pd\n",
    "\n",
    "# File to Load (Remember to Change These)\n",
    "school_data_to_load = \"Resources/schools_complete.csv\"\n",
    "student_data_to_load = \"Resources/students_complete.csv\"\n",
    "\n",
    "# Read School and Student Data File and store into Pandas DataFrames\n",
    "school_data = pd.read_csv(school_data_to_load)\n",
    "student_data = pd.read_csv(student_data_to_load)\n",
    "\n",
    "# Combine the data into a single dataset.  \n",
    "school_data_complete = pd.merge(student_data, school_data, how=\"left\", on=[\"school_name\", \"school_name\"])\n",
    "school_data_complete\n",
    "# school_data_complete.dtypes\n"
   ]
  },
  {
   "cell_type": "code",
   "execution_count": 163,
   "metadata": {},
   "outputs": [
    {
     "output_type": "execute_result",
     "data": {
      "text/plain": "   Total Schools  Total Students    Total Budget Average Math Score  \\\n0             15           39170  $24,649,428.00              78.99   \n\n  Average Reading Score % Passing Math % Passing Reading % Over all Passing  \n0                 81.88        74.98 %           85.81 %            65.17 %  ",
      "text/html": "<div>\n<style scoped>\n    .dataframe tbody tr th:only-of-type {\n        vertical-align: middle;\n    }\n\n    .dataframe tbody tr th {\n        vertical-align: top;\n    }\n\n    .dataframe thead th {\n        text-align: right;\n    }\n</style>\n<table border=\"1\" class=\"dataframe\">\n  <thead>\n    <tr style=\"text-align: right;\">\n      <th></th>\n      <th>Total Schools</th>\n      <th>Total Students</th>\n      <th>Total Budget</th>\n      <th>Average Math Score</th>\n      <th>Average Reading Score</th>\n      <th>% Passing Math</th>\n      <th>% Passing Reading</th>\n      <th>% Over all Passing</th>\n    </tr>\n  </thead>\n  <tbody>\n    <tr>\n      <th>0</th>\n      <td>15</td>\n      <td>39170</td>\n      <td>$24,649,428.00</td>\n      <td>78.99</td>\n      <td>81.88</td>\n      <td>74.98 %</td>\n      <td>85.81 %</td>\n      <td>65.17 %</td>\n    </tr>\n  </tbody>\n</table>\n</div>"
     },
     "metadata": {},
     "execution_count": 163
    }
   ],
   "source": [
    "school_df = school_data_complete.loc[:, [\"school_name\", \"type\", \"size\", \"budget\", \"math_score\", \"reading_score\"]]\n",
    "math_score_file = school_df.loc[school_df[\"math_score\"] >=70]\n",
    "math_score_count = math_score_file.count()[\"size\"]\n",
    "reading_score_file = school_df.loc[school_df[\"reading_score\"] >=70]\n",
    "reading_score_count = reading_score_file.count()[\"size\"]\n",
    "school_name_group = school_df.groupby(['school_name'])\n",
    "filtered_school_name_group = school_name_group.mean()\n",
    "overall_pass = school_df.loc[(school_df[\"math_score\"] >= 70) & (\n",
    "        school_df[\"reading_score\"] >= 70), :]\n",
    "\n",
    "total_school_count = len(school_df[\"school_name\"].unique())\n",
    "total_studentid_count = school_df[\"size\"].count()\n",
    "total_budget = filtered_school_name_group['budget'].sum()\n",
    "average_math_score = school_df[\"math_score\"].mean()\n",
    "average_reading_score = school_df[\"reading_score\"].mean()\n",
    "\n",
    "percent_passing_math = (math_score_count/total_studentid_count)*100\n",
    "percent_passing_reading = (reading_score_count/total_studentid_count)*100\n",
    "percent_overall_pass = (overall_pass[\"math_score\"].count()/total_studentid_count)*100\n",
    "\n",
    "district_summary_df = pd.DataFrame({\"Total Schools\": [total_school_count], \"Total Students\": [total_studentid_count], \"Total Budget\": [total_budget], \"Average Math Score\": [average_math_score], \"Average Reading Score\": [average_reading_score], \"% Passing Math\": [percent_passing_math], \"% Passing Reading\": [percent_passing_reading], \"% Over all Passing\": [percent_overall_pass]})\n",
    "\n",
    "district_summary_df[\"Total Budget\"] = district_summary_df[\"Total Budget\"].astype(float).map(\"${:,.2f}\".format)\n",
    "district_summary_df[\"Average Math Score\"] = district_summary_df[\"Average Math Score\"].astype(float).map(\"{:,.2f}\".format)\n",
    "district_summary_df[\"Average Reading Score\"] = district_summary_df[\"Average Reading Score\"].astype(float).map(\"{:,.2f}\".format)\n",
    "district_summary_df[\"% Passing Math\"] = district_summary_df[\"% Passing Math\"].astype(float).map(\"{:,.2f} %\".format)\n",
    "district_summary_df[\"% Passing Reading\"] = district_summary_df[\"% Passing Reading\"].astype(float).map(\"{:,.2f} %\".format)\n",
    "district_summary_df[\"% Over all Passing\"] = district_summary_df[\"% Over all Passing\"].astype(float).map(\"{:,.2f} %\".format)\n",
    "district_summary_df"
   ]
  },
  {
   "cell_type": "code",
   "execution_count": 129,
   "metadata": {},
   "outputs": [
    {
     "output_type": "execute_result",
     "data": {
      "text/plain": "                                Total Students  Total School Budget  \\\nschool_name           type                                            \nBailey High School    District          4976.0            3124928.0   \nCabrera High School   Charter           1858.0            1081356.0   \nFigueroa High School  District          2949.0            1884411.0   \nFord High School      District          2739.0            1763916.0   \nGriffin High School   Charter           1468.0             917500.0   \nHernandez High School District          4635.0            3022020.0   \nHolden High School    Charter            427.0             248087.0   \nHuang High School     District          2917.0            1910635.0   \nJohnson High School   District          4761.0            3094650.0   \nPena High School      Charter            962.0             585858.0   \nRodriguez High School District          3999.0            2547363.0   \nShelton High School   Charter           1761.0            1056600.0   \nThomas High School    Charter           1635.0            1043130.0   \nWilson High School    Charter           2283.0            1319574.0   \nWright High School    Charter           1800.0            1049400.0   \n\n                                Average Math Score  Average Reading Score  \\\nschool_name           type                                                  \nBailey High School    District           77.048432              81.033963   \nCabrera High School   Charter            83.061895              83.975780   \nFigueroa High School  District           76.711767              81.158020   \nFord High School      District           77.102592              80.746258   \nGriffin High School   Charter            83.351499              83.816757   \nHernandez High School District           77.289752              80.934412   \nHolden High School    Charter            83.803279              83.814988   \nHuang High School     District           76.629414              81.182722   \nJohnson High School   District           77.072464              80.966394   \nPena High School      Charter            83.839917              84.044699   \nRodriguez High School District           76.842711              80.744686   \nShelton High School   Charter            83.359455              83.725724   \nThomas High School    Charter            83.418349              83.848930   \nWilson High School    Charter            83.274201              83.989488   \nWright High School    Charter            83.682222              83.955000   \n\n                                Per Student Budget  % Passing Math  \\\nschool_name           type                                           \nBailey High School    District               628.0       66.680064   \nCabrera High School   Charter                582.0       94.133477   \nFigueroa High School  District               639.0       65.988471   \nFord High School      District               644.0       68.309602   \nGriffin High School   Charter                625.0       93.392371   \nHernandez High School District               652.0       66.752967   \nHolden High School    Charter                581.0       92.505855   \nHuang High School     District               655.0       65.683922   \nJohnson High School   District               650.0       66.057551   \nPena High School      Charter                609.0       94.594595   \nRodriguez High School District               637.0       66.366592   \nShelton High School   Charter                600.0       93.867121   \nThomas High School    Charter                638.0       93.272171   \nWilson High School    Charter                578.0       93.867718   \nWright High School    Charter                583.0       93.333333   \n\n                                % Passing reading  % Overall Passing  \nschool_name           type                                            \nBailey High School    District          81.933280          54.642283  \nCabrera High School   Charter           97.039828          91.334769  \nFigueroa High School  District          80.739234          53.204476  \nFord High School      District          79.299014          54.289887  \nGriffin High School   Charter           97.138965          90.599455  \nHernandez High School District          80.862999          53.527508  \nHolden High School    Charter           96.252927          89.227166  \nHuang High School     District          81.316421          53.513884  \nJohnson High School   District          81.222432          53.539172  \nPena High School      Charter           95.945946          90.540541  \nRodriguez High School District          80.220055          52.988247  \nShelton High School   Charter           95.854628          89.892107  \nThomas High School    Charter           97.308869          90.948012  \nWilson High School    Charter           96.539641          90.582567  \nWright High School    Charter           96.611111          90.333333  ",
      "text/html": "<div>\n<style scoped>\n    .dataframe tbody tr th:only-of-type {\n        vertical-align: middle;\n    }\n\n    .dataframe tbody tr th {\n        vertical-align: top;\n    }\n\n    .dataframe thead th {\n        text-align: right;\n    }\n</style>\n<table border=\"1\" class=\"dataframe\">\n  <thead>\n    <tr style=\"text-align: right;\">\n      <th></th>\n      <th></th>\n      <th>Total Students</th>\n      <th>Total School Budget</th>\n      <th>Average Math Score</th>\n      <th>Average Reading Score</th>\n      <th>Per Student Budget</th>\n      <th>% Passing Math</th>\n      <th>% Passing reading</th>\n      <th>% Overall Passing</th>\n    </tr>\n    <tr>\n      <th>school_name</th>\n      <th>type</th>\n      <th></th>\n      <th></th>\n      <th></th>\n      <th></th>\n      <th></th>\n      <th></th>\n      <th></th>\n      <th></th>\n    </tr>\n  </thead>\n  <tbody>\n    <tr>\n      <th>Bailey High School</th>\n      <th>District</th>\n      <td>4976.0</td>\n      <td>3124928.0</td>\n      <td>77.048432</td>\n      <td>81.033963</td>\n      <td>628.0</td>\n      <td>66.680064</td>\n      <td>81.933280</td>\n      <td>54.642283</td>\n    </tr>\n    <tr>\n      <th>Cabrera High School</th>\n      <th>Charter</th>\n      <td>1858.0</td>\n      <td>1081356.0</td>\n      <td>83.061895</td>\n      <td>83.975780</td>\n      <td>582.0</td>\n      <td>94.133477</td>\n      <td>97.039828</td>\n      <td>91.334769</td>\n    </tr>\n    <tr>\n      <th>Figueroa High School</th>\n      <th>District</th>\n      <td>2949.0</td>\n      <td>1884411.0</td>\n      <td>76.711767</td>\n      <td>81.158020</td>\n      <td>639.0</td>\n      <td>65.988471</td>\n      <td>80.739234</td>\n      <td>53.204476</td>\n    </tr>\n    <tr>\n      <th>Ford High School</th>\n      <th>District</th>\n      <td>2739.0</td>\n      <td>1763916.0</td>\n      <td>77.102592</td>\n      <td>80.746258</td>\n      <td>644.0</td>\n      <td>68.309602</td>\n      <td>79.299014</td>\n      <td>54.289887</td>\n    </tr>\n    <tr>\n      <th>Griffin High School</th>\n      <th>Charter</th>\n      <td>1468.0</td>\n      <td>917500.0</td>\n      <td>83.351499</td>\n      <td>83.816757</td>\n      <td>625.0</td>\n      <td>93.392371</td>\n      <td>97.138965</td>\n      <td>90.599455</td>\n    </tr>\n    <tr>\n      <th>Hernandez High School</th>\n      <th>District</th>\n      <td>4635.0</td>\n      <td>3022020.0</td>\n      <td>77.289752</td>\n      <td>80.934412</td>\n      <td>652.0</td>\n      <td>66.752967</td>\n      <td>80.862999</td>\n      <td>53.527508</td>\n    </tr>\n    <tr>\n      <th>Holden High School</th>\n      <th>Charter</th>\n      <td>427.0</td>\n      <td>248087.0</td>\n      <td>83.803279</td>\n      <td>83.814988</td>\n      <td>581.0</td>\n      <td>92.505855</td>\n      <td>96.252927</td>\n      <td>89.227166</td>\n    </tr>\n    <tr>\n      <th>Huang High School</th>\n      <th>District</th>\n      <td>2917.0</td>\n      <td>1910635.0</td>\n      <td>76.629414</td>\n      <td>81.182722</td>\n      <td>655.0</td>\n      <td>65.683922</td>\n      <td>81.316421</td>\n      <td>53.513884</td>\n    </tr>\n    <tr>\n      <th>Johnson High School</th>\n      <th>District</th>\n      <td>4761.0</td>\n      <td>3094650.0</td>\n      <td>77.072464</td>\n      <td>80.966394</td>\n      <td>650.0</td>\n      <td>66.057551</td>\n      <td>81.222432</td>\n      <td>53.539172</td>\n    </tr>\n    <tr>\n      <th>Pena High School</th>\n      <th>Charter</th>\n      <td>962.0</td>\n      <td>585858.0</td>\n      <td>83.839917</td>\n      <td>84.044699</td>\n      <td>609.0</td>\n      <td>94.594595</td>\n      <td>95.945946</td>\n      <td>90.540541</td>\n    </tr>\n    <tr>\n      <th>Rodriguez High School</th>\n      <th>District</th>\n      <td>3999.0</td>\n      <td>2547363.0</td>\n      <td>76.842711</td>\n      <td>80.744686</td>\n      <td>637.0</td>\n      <td>66.366592</td>\n      <td>80.220055</td>\n      <td>52.988247</td>\n    </tr>\n    <tr>\n      <th>Shelton High School</th>\n      <th>Charter</th>\n      <td>1761.0</td>\n      <td>1056600.0</td>\n      <td>83.359455</td>\n      <td>83.725724</td>\n      <td>600.0</td>\n      <td>93.867121</td>\n      <td>95.854628</td>\n      <td>89.892107</td>\n    </tr>\n    <tr>\n      <th>Thomas High School</th>\n      <th>Charter</th>\n      <td>1635.0</td>\n      <td>1043130.0</td>\n      <td>83.418349</td>\n      <td>83.848930</td>\n      <td>638.0</td>\n      <td>93.272171</td>\n      <td>97.308869</td>\n      <td>90.948012</td>\n    </tr>\n    <tr>\n      <th>Wilson High School</th>\n      <th>Charter</th>\n      <td>2283.0</td>\n      <td>1319574.0</td>\n      <td>83.274201</td>\n      <td>83.989488</td>\n      <td>578.0</td>\n      <td>93.867718</td>\n      <td>96.539641</td>\n      <td>90.582567</td>\n    </tr>\n    <tr>\n      <th>Wright High School</th>\n      <th>Charter</th>\n      <td>1800.0</td>\n      <td>1049400.0</td>\n      <td>83.682222</td>\n      <td>83.955000</td>\n      <td>583.0</td>\n      <td>93.333333</td>\n      <td>96.611111</td>\n      <td>90.333333</td>\n    </tr>\n  </tbody>\n</table>\n</div>"
     },
     "metadata": {},
     "execution_count": 129
    }
   ],
   "source": [
    "school_df = school_data_complete.loc[:, [\"school_name\", \"type\", \"size\", \"budget\", \"math_score\", \"reading_score\"]]\n",
    "\n",
    "school_math_score = school_df.loc[school_df[\"math_score\"] >=70]\n",
    "school_math_filter = school_math_score.groupby([\"school_name\"])\n",
    "school_percent_math = school_math_filter[\"math_score\"].count()\n",
    "\n",
    "school_reading_score = school_df.loc[school_df[\"reading_score\"] >=70]\n",
    "school_reading_filter = school_reading_score.groupby([\"school_name\"])\n",
    "school_percent_reading = school_reading_filter[\"math_score\"].count()\n",
    "\n",
    "school_overall_pass = school_df.loc[(school_df[\"math_score\"] >= 70) & (\n",
    "        school_df[\"reading_score\"] >= 70), :]\n",
    "overall_school_pass_filter = school_overall_pass.groupby(['school_name'])\n",
    "school_percent_overall = overall_school_pass_filter[\"math_score\"].count()\n",
    "\n",
    "group_school_summary_df = school_df.groupby([\"school_name\", \"type\"])\n",
    "summary_df = group_school_summary_df.mean() \n",
    "summary_df[\"Per Student Budget\"] = summary_df[\"budget\"] / summary_df[\"size\"]\n",
    "summary_df[\"% Passing Math\"] = (school_percent_math / summary_df[\"size\"])*100\n",
    "summary_df[\"% Passing reading\"] = (school_percent_reading / summary_df[\"size\"])*100\n",
    "summary_df[\"% Overall Passing\"] = (school_percent_overall / summary_df[\"size\"])*100\n",
    "school_summary_df = summary_df.rename(columns = {\"school_name\": \"School Name\", \"type\": \"School Type\", \"size\": \"Total Students\", \"budget\": \"Total School Budget\", \"math_score\": \"Average Math Score\", \"reading_score\":\"Average Reading Score\", \"Per Student Budget\": \"Per Student Budget\", \"% Passing Math\": \"% Passing Math\", \"% Passing Reading\": \"% Passing Reading\", \"% Overall Passing\": \"% Overall Passing\"})\n",
    "\n",
    "# school_summary_df[\"Total School Budget\"] = school_summary_df[\"Total School Budget\"].astype(float).map(\"${:,.2f}\".format)\n",
    "# school_summary_df[\"Per Student Budget\"] = school_summary_df[\"Per Student Budget\"].astype(float).map(\"${:,.2f}\".format)\n",
    "# school_summary_df[\"Average Math Score\"] = school_summary_df[\"Average Math Score\"].astype(float).map(\"{:,.2f}\".format)\n",
    "# school_summary_df[\"Average Reading Score\"] = school_summary_df[\"Average Reading Score\"].astype(float).map(\"{:,.2f}\".format)\n",
    "# school_summary_df[\"% Passing Math\"] = school_summary_df[\"% Passing Math\"].astype(float).map(\"{:,.2f} %\".format)\n",
    "# school_summary_df[\"% Passing Reading\"] = school_summary_df[\"% Passing Reading\"].astype(float).map(\"{:,.2f} %\".format)\n",
    "# school_summary_df[\"% Overall Passing\"] = school_summary_df[\"% Overall Passing\"].astype(float).map(\"{:,.2f} %\".format)\n",
    "# school_summary_df = school_summary_df.reset_index()\n",
    "school_summary_df\n",
    "# summary_df"
   ]
  },
  {
   "cell_type": "code",
   "execution_count": 130,
   "metadata": {},
   "outputs": [
    {
     "output_type": "execute_result",
     "data": {
      "text/plain": "                             Total Students  Total School Budget  \\\nschool_name         type                                           \nCabrera High School Charter          1858.0            1081356.0   \nThomas High School  Charter          1635.0            1043130.0   \nGriffin High School Charter          1468.0             917500.0   \nWilson High School  Charter          2283.0            1319574.0   \nPena High School    Charter           962.0             585858.0   \n\n                             Average Math Score  Average Reading Score  \\\nschool_name         type                                                 \nCabrera High School Charter           83.061895              83.975780   \nThomas High School  Charter           83.418349              83.848930   \nGriffin High School Charter           83.351499              83.816757   \nWilson High School  Charter           83.274201              83.989488   \nPena High School    Charter           83.839917              84.044699   \n\n                             Per Student Budget  % Passing Math  \\\nschool_name         type                                          \nCabrera High School Charter               582.0       94.133477   \nThomas High School  Charter               638.0       93.272171   \nGriffin High School Charter               625.0       93.392371   \nWilson High School  Charter               578.0       93.867718   \nPena High School    Charter               609.0       94.594595   \n\n                             % Passing reading  % Overall Passing  \nschool_name         type                                           \nCabrera High School Charter          97.039828          91.334769  \nThomas High School  Charter          97.308869          90.948012  \nGriffin High School Charter          97.138965          90.599455  \nWilson High School  Charter          96.539641          90.582567  \nPena High School    Charter          95.945946          90.540541  ",
      "text/html": "<div>\n<style scoped>\n    .dataframe tbody tr th:only-of-type {\n        vertical-align: middle;\n    }\n\n    .dataframe tbody tr th {\n        vertical-align: top;\n    }\n\n    .dataframe thead th {\n        text-align: right;\n    }\n</style>\n<table border=\"1\" class=\"dataframe\">\n  <thead>\n    <tr style=\"text-align: right;\">\n      <th></th>\n      <th></th>\n      <th>Total Students</th>\n      <th>Total School Budget</th>\n      <th>Average Math Score</th>\n      <th>Average Reading Score</th>\n      <th>Per Student Budget</th>\n      <th>% Passing Math</th>\n      <th>% Passing reading</th>\n      <th>% Overall Passing</th>\n    </tr>\n    <tr>\n      <th>school_name</th>\n      <th>type</th>\n      <th></th>\n      <th></th>\n      <th></th>\n      <th></th>\n      <th></th>\n      <th></th>\n      <th></th>\n      <th></th>\n    </tr>\n  </thead>\n  <tbody>\n    <tr>\n      <th>Cabrera High School</th>\n      <th>Charter</th>\n      <td>1858.0</td>\n      <td>1081356.0</td>\n      <td>83.061895</td>\n      <td>83.975780</td>\n      <td>582.0</td>\n      <td>94.133477</td>\n      <td>97.039828</td>\n      <td>91.334769</td>\n    </tr>\n    <tr>\n      <th>Thomas High School</th>\n      <th>Charter</th>\n      <td>1635.0</td>\n      <td>1043130.0</td>\n      <td>83.418349</td>\n      <td>83.848930</td>\n      <td>638.0</td>\n      <td>93.272171</td>\n      <td>97.308869</td>\n      <td>90.948012</td>\n    </tr>\n    <tr>\n      <th>Griffin High School</th>\n      <th>Charter</th>\n      <td>1468.0</td>\n      <td>917500.0</td>\n      <td>83.351499</td>\n      <td>83.816757</td>\n      <td>625.0</td>\n      <td>93.392371</td>\n      <td>97.138965</td>\n      <td>90.599455</td>\n    </tr>\n    <tr>\n      <th>Wilson High School</th>\n      <th>Charter</th>\n      <td>2283.0</td>\n      <td>1319574.0</td>\n      <td>83.274201</td>\n      <td>83.989488</td>\n      <td>578.0</td>\n      <td>93.867718</td>\n      <td>96.539641</td>\n      <td>90.582567</td>\n    </tr>\n    <tr>\n      <th>Pena High School</th>\n      <th>Charter</th>\n      <td>962.0</td>\n      <td>585858.0</td>\n      <td>83.839917</td>\n      <td>84.044699</td>\n      <td>609.0</td>\n      <td>94.594595</td>\n      <td>95.945946</td>\n      <td>90.540541</td>\n    </tr>\n  </tbody>\n</table>\n</div>"
     },
     "metadata": {},
     "execution_count": 130
    }
   ],
   "source": [
    "top_performing_schools = school_summary_df.sort_values(\"% Overall Passing\", ascending=False)\n",
    "top_performing_schools.head()"
   ]
  },
  {
   "cell_type": "code",
   "execution_count": 131,
   "metadata": {},
   "outputs": [
    {
     "output_type": "execute_result",
     "data": {
      "text/plain": "                                Total Students  Total School Budget  \\\nschool_name           type                                            \nRodriguez High School District          3999.0            2547363.0   \nFigueroa High School  District          2949.0            1884411.0   \nHuang High School     District          2917.0            1910635.0   \nHernandez High School District          4635.0            3022020.0   \nJohnson High School   District          4761.0            3094650.0   \n\n                                Average Math Score  Average Reading Score  \\\nschool_name           type                                                  \nRodriguez High School District           76.842711              80.744686   \nFigueroa High School  District           76.711767              81.158020   \nHuang High School     District           76.629414              81.182722   \nHernandez High School District           77.289752              80.934412   \nJohnson High School   District           77.072464              80.966394   \n\n                                Per Student Budget  % Passing Math  \\\nschool_name           type                                           \nRodriguez High School District               637.0       66.366592   \nFigueroa High School  District               639.0       65.988471   \nHuang High School     District               655.0       65.683922   \nHernandez High School District               652.0       66.752967   \nJohnson High School   District               650.0       66.057551   \n\n                                % Passing reading  % Overall Passing  \nschool_name           type                                            \nRodriguez High School District          80.220055          52.988247  \nFigueroa High School  District          80.739234          53.204476  \nHuang High School     District          81.316421          53.513884  \nHernandez High School District          80.862999          53.527508  \nJohnson High School   District          81.222432          53.539172  ",
      "text/html": "<div>\n<style scoped>\n    .dataframe tbody tr th:only-of-type {\n        vertical-align: middle;\n    }\n\n    .dataframe tbody tr th {\n        vertical-align: top;\n    }\n\n    .dataframe thead th {\n        text-align: right;\n    }\n</style>\n<table border=\"1\" class=\"dataframe\">\n  <thead>\n    <tr style=\"text-align: right;\">\n      <th></th>\n      <th></th>\n      <th>Total Students</th>\n      <th>Total School Budget</th>\n      <th>Average Math Score</th>\n      <th>Average Reading Score</th>\n      <th>Per Student Budget</th>\n      <th>% Passing Math</th>\n      <th>% Passing reading</th>\n      <th>% Overall Passing</th>\n    </tr>\n    <tr>\n      <th>school_name</th>\n      <th>type</th>\n      <th></th>\n      <th></th>\n      <th></th>\n      <th></th>\n      <th></th>\n      <th></th>\n      <th></th>\n      <th></th>\n    </tr>\n  </thead>\n  <tbody>\n    <tr>\n      <th>Rodriguez High School</th>\n      <th>District</th>\n      <td>3999.0</td>\n      <td>2547363.0</td>\n      <td>76.842711</td>\n      <td>80.744686</td>\n      <td>637.0</td>\n      <td>66.366592</td>\n      <td>80.220055</td>\n      <td>52.988247</td>\n    </tr>\n    <tr>\n      <th>Figueroa High School</th>\n      <th>District</th>\n      <td>2949.0</td>\n      <td>1884411.0</td>\n      <td>76.711767</td>\n      <td>81.158020</td>\n      <td>639.0</td>\n      <td>65.988471</td>\n      <td>80.739234</td>\n      <td>53.204476</td>\n    </tr>\n    <tr>\n      <th>Huang High School</th>\n      <th>District</th>\n      <td>2917.0</td>\n      <td>1910635.0</td>\n      <td>76.629414</td>\n      <td>81.182722</td>\n      <td>655.0</td>\n      <td>65.683922</td>\n      <td>81.316421</td>\n      <td>53.513884</td>\n    </tr>\n    <tr>\n      <th>Hernandez High School</th>\n      <th>District</th>\n      <td>4635.0</td>\n      <td>3022020.0</td>\n      <td>77.289752</td>\n      <td>80.934412</td>\n      <td>652.0</td>\n      <td>66.752967</td>\n      <td>80.862999</td>\n      <td>53.527508</td>\n    </tr>\n    <tr>\n      <th>Johnson High School</th>\n      <th>District</th>\n      <td>4761.0</td>\n      <td>3094650.0</td>\n      <td>77.072464</td>\n      <td>80.966394</td>\n      <td>650.0</td>\n      <td>66.057551</td>\n      <td>81.222432</td>\n      <td>53.539172</td>\n    </tr>\n  </tbody>\n</table>\n</div>"
     },
     "metadata": {},
     "execution_count": 131
    }
   ],
   "source": [
    "bottom_performing_schools = school_summary_df.sort_values(\"% Overall Passing\")\n",
    "bottom_performing_schools.head()"
   ]
  },
  {
   "cell_type": "code",
   "execution_count": 132,
   "metadata": {},
   "outputs": [
    {
     "output_type": "execute_result",
     "data": {
      "text/plain": "                         9th   10th   11th   12th\nschool_name                                      \nBailey High School     77.08  77.00  77.52  76.49\nCabrera High School    83.09  83.15  82.77  83.28\nFigueroa High School   76.40  76.54  76.88  77.15\nFord High School       77.36  77.67  76.92  76.18\nGriffin High School    82.04  84.23  83.84  83.36\nHernandez High School  77.44  77.34  77.14  77.19\nHolden High School     83.79  83.43  85.00  82.86\nHuang High School      77.03  75.91  76.45  77.23\nJohnson High School    77.19  76.69  77.49  76.86\nPena High School       83.63  83.37  84.33  84.12\nRodriguez High School  76.86  76.61  76.40  77.69\nShelton High School    83.42  82.92  83.38  83.78\nThomas High School     83.59  83.09  83.50  83.50\nWilson High School     83.09  83.72  83.20  83.04\nWright High School     83.26  84.01  83.84  83.64",
      "text/html": "<div>\n<style scoped>\n    .dataframe tbody tr th:only-of-type {\n        vertical-align: middle;\n    }\n\n    .dataframe tbody tr th {\n        vertical-align: top;\n    }\n\n    .dataframe thead th {\n        text-align: right;\n    }\n</style>\n<table border=\"1\" class=\"dataframe\">\n  <thead>\n    <tr style=\"text-align: right;\">\n      <th></th>\n      <th>9th</th>\n      <th>10th</th>\n      <th>11th</th>\n      <th>12th</th>\n    </tr>\n    <tr>\n      <th>school_name</th>\n      <th></th>\n      <th></th>\n      <th></th>\n      <th></th>\n    </tr>\n  </thead>\n  <tbody>\n    <tr>\n      <th>Bailey High School</th>\n      <td>77.08</td>\n      <td>77.00</td>\n      <td>77.52</td>\n      <td>76.49</td>\n    </tr>\n    <tr>\n      <th>Cabrera High School</th>\n      <td>83.09</td>\n      <td>83.15</td>\n      <td>82.77</td>\n      <td>83.28</td>\n    </tr>\n    <tr>\n      <th>Figueroa High School</th>\n      <td>76.40</td>\n      <td>76.54</td>\n      <td>76.88</td>\n      <td>77.15</td>\n    </tr>\n    <tr>\n      <th>Ford High School</th>\n      <td>77.36</td>\n      <td>77.67</td>\n      <td>76.92</td>\n      <td>76.18</td>\n    </tr>\n    <tr>\n      <th>Griffin High School</th>\n      <td>82.04</td>\n      <td>84.23</td>\n      <td>83.84</td>\n      <td>83.36</td>\n    </tr>\n    <tr>\n      <th>Hernandez High School</th>\n      <td>77.44</td>\n      <td>77.34</td>\n      <td>77.14</td>\n      <td>77.19</td>\n    </tr>\n    <tr>\n      <th>Holden High School</th>\n      <td>83.79</td>\n      <td>83.43</td>\n      <td>85.00</td>\n      <td>82.86</td>\n    </tr>\n    <tr>\n      <th>Huang High School</th>\n      <td>77.03</td>\n      <td>75.91</td>\n      <td>76.45</td>\n      <td>77.23</td>\n    </tr>\n    <tr>\n      <th>Johnson High School</th>\n      <td>77.19</td>\n      <td>76.69</td>\n      <td>77.49</td>\n      <td>76.86</td>\n    </tr>\n    <tr>\n      <th>Pena High School</th>\n      <td>83.63</td>\n      <td>83.37</td>\n      <td>84.33</td>\n      <td>84.12</td>\n    </tr>\n    <tr>\n      <th>Rodriguez High School</th>\n      <td>76.86</td>\n      <td>76.61</td>\n      <td>76.40</td>\n      <td>77.69</td>\n    </tr>\n    <tr>\n      <th>Shelton High School</th>\n      <td>83.42</td>\n      <td>82.92</td>\n      <td>83.38</td>\n      <td>83.78</td>\n    </tr>\n    <tr>\n      <th>Thomas High School</th>\n      <td>83.59</td>\n      <td>83.09</td>\n      <td>83.50</td>\n      <td>83.50</td>\n    </tr>\n    <tr>\n      <th>Wilson High School</th>\n      <td>83.09</td>\n      <td>83.72</td>\n      <td>83.20</td>\n      <td>83.04</td>\n    </tr>\n    <tr>\n      <th>Wright High School</th>\n      <td>83.26</td>\n      <td>84.01</td>\n      <td>83.84</td>\n      <td>83.64</td>\n    </tr>\n  </tbody>\n</table>\n</div>"
     },
     "metadata": {},
     "execution_count": 132
    }
   ],
   "source": [
    "columns = [\"school_name\", \"grade\", \"math_score\"]\n",
    "ninth_grade_math_score = school_data_complete.loc[school_data_complete[\"grade\"] == \"9th\", columns]\n",
    "ninth_grade_filter = ninth_grade_math_score.groupby([\"school_name\"])\n",
    "ninth_grade_series = ninth_grade_filter.mean()\n",
    "\n",
    "columns = [\"school_name\", \"grade\", \"math_score\"]\n",
    "tenth_grade_math_score = school_data_complete.loc[school_data_complete[\"grade\"] == \"10th\", columns]\n",
    "tenth_grade_filter = tenth_grade_math_score.groupby([\"school_name\"])\n",
    "tenth_grade_series = tenth_grade_filter.mean()\n",
    "\n",
    "columns = [\"school_name\", \"grade\", \"math_score\"]\n",
    "eleventh_grade_math_score = school_data_complete.loc[school_data_complete[\"grade\"] == \"11th\", columns]\n",
    "eleventh_grade_filter = eleventh_grade_math_score.groupby([\"school_name\"])\n",
    "eleventh_grade_series = eleventh_grade_filter.mean()\n",
    "\n",
    "columns = [\"school_name\", \"grade\", \"math_score\"]\n",
    "twelfth_grade_math_score = school_data_complete.loc[school_data_complete[\"grade\"] == \"12th\", columns]\n",
    "twelfth_grade_filter = twelfth_grade_math_score.groupby([\"school_name\"])\n",
    "twelfth_grade_series = twelfth_grade_filter.mean()\n",
    "\n",
    "first_df = pd.merge(ninth_grade_series, tenth_grade_series, how = \"left\", on = [\"school_name\"])\n",
    "second_df = pd.merge(eleventh_grade_series, twelfth_grade_series, how = \"left\", on = [\"school_name\"])\n",
    "combined_df = pd.merge(first_df, second_df, how = \"left\", on = [\"school_name\"])\n",
    "combined_df = combined_df.rename(columns = {\"math_score_x_x\": \"9th\", \"math_score_y_x\": \"10th\", \"math_score_x_y\": \"11th\", \"math_score_y_y\": \"12th\"})\n",
    "\n",
    "combined_df[\"9th\"] = combined_df[\"9th\"].astype(float).map(\"{:,.2f}\".format)\n",
    "combined_df[\"10th\"] = combined_df[\"10th\"].astype(float).map(\"{:,.2f}\".format)\n",
    "combined_df[\"11th\"] = combined_df[\"11th\"].astype(float).map(\"{:,.2f}\".format)\n",
    "combined_df[\"12th\"] = combined_df[\"12th\"].astype(float).map(\"{:,.2f}\".format)\n",
    "combined_df"
   ]
  },
  {
   "cell_type": "code",
   "execution_count": 133,
   "metadata": {},
   "outputs": [
    {
     "output_type": "execute_result",
     "data": {
      "text/plain": "                         9th   10th   11th   12th\nschool_name                                      \nBailey High School     81.30  80.91  80.95  80.91\nCabrera High School    83.68  84.25  83.79  84.29\nFigueroa High School   81.20  81.41  80.64  81.38\nFord High School       80.63  81.26  80.40  80.66\nGriffin High School    83.37  83.71  84.29  84.01\nHernandez High School  80.87  80.66  81.40  80.86\nHolden High School     83.68  83.32  83.82  84.70\nHuang High School      81.29  81.51  81.42  80.31\nJohnson High School    81.26  80.77  80.62  81.23\nPena High School       83.81  83.61  84.34  84.59\nRodriguez High School  80.99  80.63  80.86  80.38\nShelton High School    84.12  83.44  84.37  82.78\nThomas High School     83.73  84.25  83.59  83.83\nWilson High School     83.94  84.02  83.76  84.32\nWright High School     83.83  83.81  84.16  84.07",
      "text/html": "<div>\n<style scoped>\n    .dataframe tbody tr th:only-of-type {\n        vertical-align: middle;\n    }\n\n    .dataframe tbody tr th {\n        vertical-align: top;\n    }\n\n    .dataframe thead th {\n        text-align: right;\n    }\n</style>\n<table border=\"1\" class=\"dataframe\">\n  <thead>\n    <tr style=\"text-align: right;\">\n      <th></th>\n      <th>9th</th>\n      <th>10th</th>\n      <th>11th</th>\n      <th>12th</th>\n    </tr>\n    <tr>\n      <th>school_name</th>\n      <th></th>\n      <th></th>\n      <th></th>\n      <th></th>\n    </tr>\n  </thead>\n  <tbody>\n    <tr>\n      <th>Bailey High School</th>\n      <td>81.30</td>\n      <td>80.91</td>\n      <td>80.95</td>\n      <td>80.91</td>\n    </tr>\n    <tr>\n      <th>Cabrera High School</th>\n      <td>83.68</td>\n      <td>84.25</td>\n      <td>83.79</td>\n      <td>84.29</td>\n    </tr>\n    <tr>\n      <th>Figueroa High School</th>\n      <td>81.20</td>\n      <td>81.41</td>\n      <td>80.64</td>\n      <td>81.38</td>\n    </tr>\n    <tr>\n      <th>Ford High School</th>\n      <td>80.63</td>\n      <td>81.26</td>\n      <td>80.40</td>\n      <td>80.66</td>\n    </tr>\n    <tr>\n      <th>Griffin High School</th>\n      <td>83.37</td>\n      <td>83.71</td>\n      <td>84.29</td>\n      <td>84.01</td>\n    </tr>\n    <tr>\n      <th>Hernandez High School</th>\n      <td>80.87</td>\n      <td>80.66</td>\n      <td>81.40</td>\n      <td>80.86</td>\n    </tr>\n    <tr>\n      <th>Holden High School</th>\n      <td>83.68</td>\n      <td>83.32</td>\n      <td>83.82</td>\n      <td>84.70</td>\n    </tr>\n    <tr>\n      <th>Huang High School</th>\n      <td>81.29</td>\n      <td>81.51</td>\n      <td>81.42</td>\n      <td>80.31</td>\n    </tr>\n    <tr>\n      <th>Johnson High School</th>\n      <td>81.26</td>\n      <td>80.77</td>\n      <td>80.62</td>\n      <td>81.23</td>\n    </tr>\n    <tr>\n      <th>Pena High School</th>\n      <td>83.81</td>\n      <td>83.61</td>\n      <td>84.34</td>\n      <td>84.59</td>\n    </tr>\n    <tr>\n      <th>Rodriguez High School</th>\n      <td>80.99</td>\n      <td>80.63</td>\n      <td>80.86</td>\n      <td>80.38</td>\n    </tr>\n    <tr>\n      <th>Shelton High School</th>\n      <td>84.12</td>\n      <td>83.44</td>\n      <td>84.37</td>\n      <td>82.78</td>\n    </tr>\n    <tr>\n      <th>Thomas High School</th>\n      <td>83.73</td>\n      <td>84.25</td>\n      <td>83.59</td>\n      <td>83.83</td>\n    </tr>\n    <tr>\n      <th>Wilson High School</th>\n      <td>83.94</td>\n      <td>84.02</td>\n      <td>83.76</td>\n      <td>84.32</td>\n    </tr>\n    <tr>\n      <th>Wright High School</th>\n      <td>83.83</td>\n      <td>83.81</td>\n      <td>84.16</td>\n      <td>84.07</td>\n    </tr>\n  </tbody>\n</table>\n</div>"
     },
     "metadata": {},
     "execution_count": 133
    }
   ],
   "source": [
    "columns = [\"school_name\", \"grade\", \"reading_score\"]\n",
    "ninth_grade_reading_score = school_data_complete.loc[school_data_complete[\"grade\"] == \"9th\", columns]\n",
    "ninth_grade_filter = ninth_grade_reading_score.groupby([\"school_name\"])\n",
    "ninth_grade_series = ninth_grade_filter.mean()\n",
    "\n",
    "columns = [\"school_name\", \"grade\", \"reading_score\"]\n",
    "tenth_grade_reading_score = school_data_complete.loc[school_data_complete[\"grade\"] == \"10th\", columns]\n",
    "tenth_grade_filter = tenth_grade_reading_score.groupby([\"school_name\"])\n",
    "tenth_grade_series = tenth_grade_filter.mean()\n",
    "\n",
    "columns = [\"school_name\", \"grade\", \"reading_score\"]\n",
    "eleventh_grade_reading_score = school_data_complete.loc[school_data_complete[\"grade\"] == \"11th\", columns]\n",
    "eleventh_grade_filter = eleventh_grade_reading_score.groupby([\"school_name\"])\n",
    "eleventh_grade_series = eleventh_grade_filter.mean()\n",
    "\n",
    "columns = [\"school_name\", \"grade\", \"reading_score\"]\n",
    "twelfth_grade_reading_score = school_data_complete.loc[school_data_complete[\"grade\"] == \"12th\", columns]\n",
    "twelfth_grade_filter = twelfth_grade_reading_score.groupby([\"school_name\"])\n",
    "twelfth_grade_series = twelfth_grade_filter.mean()\n",
    "\n",
    "first_df = pd.merge(ninth_grade_series, tenth_grade_series, how = \"left\", on = [\"school_name\"])\n",
    "second_df = pd.merge(eleventh_grade_series, twelfth_grade_series, how = \"left\", on = [\"school_name\"])\n",
    "combined_df = pd.merge(first_df, second_df, how = \"left\", on = [\"school_name\"])\n",
    "combined_df = combined_df.rename(columns = {\"reading_score_x_x\": \"9th\", \"reading_score_y_x\": \"10th\", \"reading_score_x_y\": \"11th\", \"reading_score_y_y\": \"12th\"})\n",
    "\n",
    "combined_df[\"9th\"] = combined_df[\"9th\"].astype(float).map(\"{:,.2f}\".format)\n",
    "combined_df[\"10th\"] = combined_df[\"10th\"].astype(float).map(\"{:,.2f}\".format)\n",
    "combined_df[\"11th\"] = combined_df[\"11th\"].astype(float).map(\"{:,.2f}\".format)\n",
    "combined_df[\"12th\"] = combined_df[\"12th\"].astype(float).map(\"{:,.2f}\".format)\n",
    "combined_df"
   ]
  },
  {
   "cell_type": "markdown",
   "metadata": {},
   "source": [
    "* Create a table that breaks down school performances based on average Spending Ranges (Per Student). Use 4 reasonable bins to group school spending. Include in the table each of the following:\n",
    "  * Average Math Score\n",
    "  * Average Reading Score\n",
    "  * % Passing Math\n",
    "  * % Passing Reading\n",
    "  * Overall Passing Rate (Average of the above two)"
   ]
  },
  {
   "cell_type": "code",
   "execution_count": 189,
   "metadata": {},
   "outputs": [
    {
     "output_type": "execute_result",
     "data": {
      "text/plain": "                               Average Math Score  Average Reading Score  \\\nSpending Ranges (Per Student)                                              \n<584                                    83.455399              83.933814   \n585-629                                 81.899826              83.155286   \n630-644                                 78.518855              81.624473   \n645-675                                 76.997210              81.027843   \n\n                               Per Student Budget  % Passing Math  \\\nSpending Ranges (Per Student)                                       \n<584                                   581.000000       93.460096   \n585-629                                615.500000       87.133538   \n630-644                                639.500000       73.484209   \n645-675                                652.333333       66.164813   \n\n                               % Overall Passing  \nSpending Ranges (Per Student)                     \n<584                                   90.369459  \n585-629                                81.418596  \n630-644                                62.857656  \n645-675                                53.526855  ",
      "text/html": "<div>\n<style scoped>\n    .dataframe tbody tr th:only-of-type {\n        vertical-align: middle;\n    }\n\n    .dataframe tbody tr th {\n        vertical-align: top;\n    }\n\n    .dataframe thead th {\n        text-align: right;\n    }\n</style>\n<table border=\"1\" class=\"dataframe\">\n  <thead>\n    <tr style=\"text-align: right;\">\n      <th></th>\n      <th>Average Math Score</th>\n      <th>Average Reading Score</th>\n      <th>Per Student Budget</th>\n      <th>% Passing Math</th>\n      <th>% Overall Passing</th>\n    </tr>\n    <tr>\n      <th>Spending Ranges (Per Student)</th>\n      <th></th>\n      <th></th>\n      <th></th>\n      <th></th>\n      <th></th>\n    </tr>\n  </thead>\n  <tbody>\n    <tr>\n      <th>&lt;584</th>\n      <td>83.455399</td>\n      <td>83.933814</td>\n      <td>581.000000</td>\n      <td>93.460096</td>\n      <td>90.369459</td>\n    </tr>\n    <tr>\n      <th>585-629</th>\n      <td>81.899826</td>\n      <td>83.155286</td>\n      <td>615.500000</td>\n      <td>87.133538</td>\n      <td>81.418596</td>\n    </tr>\n    <tr>\n      <th>630-644</th>\n      <td>78.518855</td>\n      <td>81.624473</td>\n      <td>639.500000</td>\n      <td>73.484209</td>\n      <td>62.857656</td>\n    </tr>\n    <tr>\n      <th>645-675</th>\n      <td>76.997210</td>\n      <td>81.027843</td>\n      <td>652.333333</td>\n      <td>66.164813</td>\n      <td>53.526855</td>\n    </tr>\n  </tbody>\n</table>\n</div>"
     },
     "metadata": {},
     "execution_count": 189
    }
   ],
   "source": [
    "# school_summary_df = school_summary_df.reset_index()\n",
    "school_bin_df = school_summary_df[['Average Math Score', 'Average Reading Score', 'Per Student Budget', '% Passing Math', '% Overall Passing']]\n",
    "bins = [0, 584, 629, 644, 675]\n",
    "group_labels = [\"<584\", \"585-629\", \"630-644\", \"645-675\"]\n",
    "pd.cut(school_bin_df[\"Per Student Budget\"], bins, labels=group_labels).head()\n",
    "school_bin_df[\"Spending Ranges (Per Student)\"] = pd.cut(school_bin_df[\"Per Student Budget\"], bins, labels=group_labels)\n",
    "school_group_df = school_bin_df.groupby(\"Spending Ranges (Per Student)\")\n",
    "school_group_df[['Average Math Score', 'Average Reading Score', '% Passing Math', '% Overall Passing']].mean()\n",
    "school_bin = school_group_df.mean()\n",
    "# school_group\n",
    "# school_summary_df\n",
    "school_bin\n"
   ]
  },
  {
   "cell_type": "code",
   "execution_count": null,
   "metadata": {},
   "outputs": [],
   "source": []
  },
  {
   "cell_type": "markdown",
   "metadata": {},
   "source": [
    "## Scores by School Size"
   ]
  },
  {
   "cell_type": "markdown",
   "metadata": {},
   "source": [
    "* Perform the same operations as above, based on school size."
   ]
  },
  {
   "cell_type": "code",
   "execution_count": 185,
   "metadata": {},
   "outputs": [
    {
     "output_type": "execute_result",
     "data": {
      "text/plain": "             Average Math Score  Average Reading Score  % Passing Math  \\\nSchool Size                                                              \n<1000                 83.821598              83.929843       93.550225   \n1000-2000             83.374684              83.864438       93.599695   \n2000-5000             77.746417              81.344493       69.963361   \n\n             % Overall Passing  Total Students  \nSchool Size                                     \n<1000                89.883853         694.500  \n1000-2000            90.621535        1704.400  \n2000-5000            58.286003        3657.375  ",
      "text/html": "<div>\n<style scoped>\n    .dataframe tbody tr th:only-of-type {\n        vertical-align: middle;\n    }\n\n    .dataframe tbody tr th {\n        vertical-align: top;\n    }\n\n    .dataframe thead th {\n        text-align: right;\n    }\n</style>\n<table border=\"1\" class=\"dataframe\">\n  <thead>\n    <tr style=\"text-align: right;\">\n      <th></th>\n      <th>Average Math Score</th>\n      <th>Average Reading Score</th>\n      <th>% Passing Math</th>\n      <th>% Overall Passing</th>\n      <th>Total Students</th>\n    </tr>\n    <tr>\n      <th>School Size</th>\n      <th></th>\n      <th></th>\n      <th></th>\n      <th></th>\n      <th></th>\n    </tr>\n  </thead>\n  <tbody>\n    <tr>\n      <th>&lt;1000</th>\n      <td>83.821598</td>\n      <td>83.929843</td>\n      <td>93.550225</td>\n      <td>89.883853</td>\n      <td>694.500</td>\n    </tr>\n    <tr>\n      <th>1000-2000</th>\n      <td>83.374684</td>\n      <td>83.864438</td>\n      <td>93.599695</td>\n      <td>90.621535</td>\n      <td>1704.400</td>\n    </tr>\n    <tr>\n      <th>2000-5000</th>\n      <td>77.746417</td>\n      <td>81.344493</td>\n      <td>69.963361</td>\n      <td>58.286003</td>\n      <td>3657.375</td>\n    </tr>\n  </tbody>\n</table>\n</div>"
     },
     "metadata": {},
     "execution_count": 185
    }
   ],
   "source": [
    "school_spending_df = school_summary_df[['Average Math Score', 'Average Reading Score', '% Passing Math', '% Overall Passing', 'Total Students']]\n",
    "bins = [0, 1000, 2000, 5000]\n",
    "group_labels = [\"<1000\", \"1000-2000\", \"2000-5000\"]\n",
    "pd.cut(school_spending_df[\"Total Students\"], bins, labels=group_labels)\n",
    "school_spending_df[\"School Size\"] = pd.cut(school_spending_df[\"Total Students\"], bins, labels=group_labels)\n",
    "school_group = school_spending_df.groupby(\"School Size\")\n",
    "school_group[['Average Math Score', 'Average Reading Score', '% Passing Math', '% Overall Passing']].mean()\n",
    "school_bin_df = school_group.mean()\n",
    "school_bin_df"
   ]
  },
  {
   "cell_type": "code",
   "execution_count": null,
   "metadata": {
    "scrolled": true
   },
   "outputs": [],
   "source": []
  },
  {
   "cell_type": "markdown",
   "metadata": {},
   "source": [
    "## Scores by School Type"
   ]
  },
  {
   "cell_type": "markdown",
   "metadata": {},
   "source": [
    "* Perform the same operations as above, based on school type"
   ]
  },
  {
   "cell_type": "code",
   "execution_count": null,
   "metadata": {},
   "outputs": [],
   "source": [
    "ss = school_summary_df.iloc[:, ['Total Students', '% Passing Reading', '% Overall Passing']]\n",
    "ss = ss.values\n",
    "ss\n",
    "# school_summary_df"
   ]
  },
  {
   "cell_type": "code",
   "execution_count": null,
   "metadata": {},
   "outputs": [],
   "source": []
  },
  {
   "cell_type": "code",
   "execution_count": null,
   "metadata": {},
   "outputs": [],
   "source": []
  }
 ],
 "metadata": {
  "anaconda-cloud": {},
  "kernel_info": {
   "name": "python3"
  },
  "kernelspec": {
   "display_name": "Python 3",
   "language": "python",
   "name": "python3"
  },
  "language_info": {
   "codemirror_mode": {
    "name": "ipython",
    "version": 3
   },
   "file_extension": ".py",
   "mimetype": "text/x-python",
   "name": "python",
   "nbconvert_exporter": "python",
   "pygments_lexer": "ipython3",
   "version": "3.6.9"
  },
  "latex_envs": {
   "LaTeX_envs_menu_present": true,
   "autoclose": false,
   "autocomplete": true,
   "bibliofile": "biblio.bib",
   "cite_by": "apalike",
   "current_citInitial": 1,
   "eqLabelWithNumbers": true,
   "eqNumInitial": 1,
   "hotkeys": {
    "equation": "Ctrl-E",
    "itemize": "Ctrl-I"
   },
   "labels_anchors": false,
   "latex_user_defs": false,
   "report_style_numbering": false,
   "user_envs_cfg": false
  },
  "nteract": {
   "version": "0.8.4"
  }
 },
 "nbformat": 4,
 "nbformat_minor": 1
}